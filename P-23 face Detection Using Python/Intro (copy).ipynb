{
  "metadata": {
    "kernelspec": {
      "name": "python",
      "display_name": "Python (Pyodide)",
      "language": "python"
    },
    "language_info": {
      "codemirror_mode": {
        "name": "python",
        "version": 3
      },
      "file_extension": ".py",
      "mimetype": "text/x-python",
      "name": "python",
      "nbconvert_exporter": "python",
      "pygments_lexer": "ipython3",
      "version": "3.8"
    }
  },
  "nbformat_minor": 5,
  "nbformat": 4,
  "cells": [
    {
      "id": "48dcb1a5-a8b9-44b5-bcbe-9a611c2eed17",
      "cell_type": "code",
      "source": "import cv2",
      "metadata": {
        "trusted": true
      },
      "outputs": [],
      "execution_count": 2
    },
    {
      "id": "de333b46-fc62-47ca-a301-d4763c50b539",
      "cell_type": "code",
      "source": "face_cap = cv2.CascadeClassifier(\"C:/Python310/Lib/site-packages/cv2/data/haarcascade_frontalface_default.xml\")\nvideo_cap = cv2.VideoCapture(0) #video capture\nwhile True:\n    ret , video_data = video_cap.read()\n    col = cv2.cvtColor(video_data,cv2.COLOR_BGR2GRAY) #black and white colour image\n    faces = face_cap.detectMultiscale( #multiple factors implemented\n        col,\n        scaleFactor=1.1,\n        minNeighbors=5,\n        minSize=(30,30),\n        flags=cv2.CASCADE_SCALE_IMAGE\n    )\n    for (x,y,w,h) in faces: #creating a box\n        cv2.rectangle(video_data,(x,y),(x+w,y+h),(0,255,0),2) #adding height,weight and axis\n    cv2.imshow(\"video_live\",video_data)\n    if cv2.waitKey(10) == ord(\"a\"):\n        break\nvideo_cap.release()",
      "metadata": {
        "trusted": true
      },
      "outputs": [],
      "execution_count": null
    },
    {
      "id": "fa13c5c2-7950-4daa-86d8-e46e07509bd1",
      "cell_type": "code",
      "source": "#in the drive where you have stored your python open that and traverse to python310 and the lib and then site-packages and then cv2 data and then data under that you will find different file with frontface.xml \n#you can choose any i m choosing haarcascade_frontalface_default.xml and just paste it in the \n#Cascade Classifier and paste it there. and in front add the address convert all backward slah in froward slash.\n#now we need to see the box and change the image into black and white",
      "metadata": {
        "trusted": true
      },
      "outputs": [],
      "execution_count": null
    }
  ]
}